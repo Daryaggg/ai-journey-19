{
 "cells": [
  {
   "cell_type": "markdown",
   "metadata": {},
   "source": [
    "# Punctuation tasks\n",
    "In thesetasks we have to predict commas in given sentences."
   ]
  },
  {
   "cell_type": "code",
   "execution_count": 1,
   "metadata": {},
   "outputs": [],
   "source": [
    "%reload_ext autoreload\n",
    "%autoreload 2\n",
    "\n",
    "from warnings import filterwarnings\n",
    "filterwarnings('ignore')"
   ]
  },
  {
   "cell_type": "markdown",
   "metadata": {},
   "source": [
    "# Part I. Data processing\n",
    "My model will be based on assumptions that according to the words before the comma, as well as parts of the speech of several words surrounding the comma, it is possible to identify well the need for its setting. \n",
    "\n",
    "To train the model we have to find suitable dataset with a huge number of long complicated sentences. I think, in this case the text of any novel of Dostoevsky Fedor Mikhailovichis perfectly suited! :)"
   ]
  },
  {
   "cell_type": "code",
   "execution_count": 2,
   "metadata": {},
   "outputs": [],
   "source": [
    "from sberbank_baseline.data_processing import NgramManager\n",
    "ngram_man = NgramManager()"
   ]
  },
  {
   "cell_type": "code",
   "execution_count": 3,
   "metadata": {},
   "outputs": [],
   "source": [
    "from code_snippets.data_processing import get_sentences_from_text, sentance_to_windows, vectorizer\n",
    "from code_snippets.utils import MyMorph"
   ]
  },
  {
   "cell_type": "code",
   "execution_count": 4,
   "metadata": {},
   "outputs": [
    {
     "name": "stdout",
     "output_type": "stream",
     "text": [
      "часть первая\n",
      "\n",
      "в конце ноября, в оттепель, часов в девять утра, поезд петербургско-варшавской железной дороги на всех парах подходил к петербургу\n",
      "\n",
      " было так сыро и туманно, что насилу рассвело; в десяти шагах, вправо и влево от дороги, трудно было разглядеть хоть что-нибудь из окон вагона\n",
      "\n",
      " из пассажиров были и возвращавшиеся из-за границы; но более были наполнены отделения для третьего класса, и всё людом мелким и деловым, не из очень далека\n"
     ]
    }
   ],
   "source": [
    "# divide the text into sentences\n",
    "sentences = get_sentences_from_text('data/Dostoevskiyi_F._Idiot.txt', min_symbols_in_sent=10)\n",
    "print(*sentences[:4], sep='\\n\\n')"
   ]
  },
  {
   "cell_type": "code",
   "execution_count": 5,
   "metadata": {},
   "outputs": [
    {
     "name": "stdout",
     "output_type": "stream",
     "text": [
      "([], 'в', ['конце', 'ноября,', 'в', 'оттепель,', 'часов'])\n",
      "\n",
      "(['в'], 'конце', ['ноября,', 'в', 'оттепель,', 'часов', 'в'])\n",
      "\n",
      "(['в', 'конце'], 'ноября,', ['в', 'оттепель,', 'часов', 'в', 'девять'])\n",
      "\n",
      "(['в', 'конце', 'ноября,'], 'в', ['оттепель,', 'часов', 'в', 'девять', 'утра,'])\n"
     ]
    }
   ],
   "source": [
    "# transform sentences to windows of words contained main word (before the comma) and 5 words back and 5 words forward\n",
    "word_windows = []\n",
    "for sentence in sentences:\n",
    "    word_windows += sentance_to_windows(sentence, n_backw=5, n_frontw=5)\n",
    "    \n",
    "print(*word_windows[:4], sep='\\n\\n')"
   ]
  },
  {
   "cell_type": "code",
   "execution_count": 6,
   "metadata": {},
   "outputs": [],
   "source": [
    "# turn word windows into features: save words' part of speach, case and aspect\n",
    "# add ngram frequencies as features: find out how often ngram occurs with and wo comma\n",
    "# if any tag of word classifies it as Function word, save it as additional feature\n",
    "import pandas as pd\n",
    "morph = MyMorph()\n",
    "X_df = pd.DataFrame([vectorizer(ww, morph, ngram_man) for ww in word_windows])"
   ]
  },
  {
   "cell_type": "code",
   "execution_count": 7,
   "metadata": {},
   "outputs": [
    {
     "data": {
      "text/plain": [
       "(204388, 32)"
      ]
     },
     "execution_count": 7,
     "metadata": {},
     "output_type": "execute_result"
    }
   ],
   "source": [
    "X_df.shape"
   ]
  },
  {
   "cell_type": "code",
   "execution_count": 8,
   "metadata": {},
   "outputs": [],
   "source": [
    "# X_df.to_csv('data/X_df.csv', index=False)\n",
    "X_df = pd.read_csv('data/X_df.csv')"
   ]
  },
  {
   "cell_type": "code",
   "execution_count": 9,
   "metadata": {},
   "outputs": [
    {
     "data": {
      "text/html": [
       "<div>\n",
       "<style scoped>\n",
       "    .dataframe tbody tr th:only-of-type {\n",
       "        vertical-align: middle;\n",
       "    }\n",
       "\n",
       "    .dataframe tbody tr th {\n",
       "        vertical-align: top;\n",
       "    }\n",
       "\n",
       "    .dataframe thead th {\n",
       "        text-align: right;\n",
       "    }\n",
       "</style>\n",
       "<table border=\"1\" class=\"dataframe\">\n",
       "  <thead>\n",
       "    <tr style=\"text-align: right;\">\n",
       "      <th></th>\n",
       "      <th>b_1_tag</th>\n",
       "      <th>f_1_tag</th>\n",
       "      <th>f_1_word</th>\n",
       "      <th>main_aspect</th>\n",
       "      <th>main_case</th>\n",
       "      <th>main_tag</th>\n",
       "      <th>main_word</th>\n",
       "      <th>y</th>\n",
       "    </tr>\n",
       "  </thead>\n",
       "  <tbody>\n",
       "    <tr>\n",
       "      <th>0</th>\n",
       "      <td>NaN</td>\n",
       "      <td>NOUN</td>\n",
       "      <td>NaN</td>\n",
       "      <td>NaN</td>\n",
       "      <td>NaN</td>\n",
       "      <td>PREP</td>\n",
       "      <td>в</td>\n",
       "      <td>0</td>\n",
       "    </tr>\n",
       "    <tr>\n",
       "      <th>1</th>\n",
       "      <td>PREP</td>\n",
       "      <td>NOUN</td>\n",
       "      <td>NaN</td>\n",
       "      <td>NaN</td>\n",
       "      <td>loct</td>\n",
       "      <td>NOUN</td>\n",
       "      <td>NaN</td>\n",
       "      <td>0</td>\n",
       "    </tr>\n",
       "    <tr>\n",
       "      <th>2</th>\n",
       "      <td>NOUN</td>\n",
       "      <td>PREP</td>\n",
       "      <td>в</td>\n",
       "      <td>NaN</td>\n",
       "      <td>gent</td>\n",
       "      <td>NOUN</td>\n",
       "      <td>NaN</td>\n",
       "      <td>1</td>\n",
       "    </tr>\n",
       "    <tr>\n",
       "      <th>3</th>\n",
       "      <td>NOUN</td>\n",
       "      <td>NOUN</td>\n",
       "      <td>NaN</td>\n",
       "      <td>NaN</td>\n",
       "      <td>NaN</td>\n",
       "      <td>PREP</td>\n",
       "      <td>в</td>\n",
       "      <td>0</td>\n",
       "    </tr>\n",
       "  </tbody>\n",
       "</table>\n",
       "</div>"
      ],
      "text/plain": [
       "  b_1_tag f_1_tag f_1_word main_aspect main_case main_tag main_word  y\n",
       "0     NaN    NOUN      NaN         NaN       NaN     PREP         в  0\n",
       "1    PREP    NOUN      NaN         NaN      loct     NOUN       NaN  0\n",
       "2    NOUN    PREP        в         NaN      gent     NOUN       NaN  1\n",
       "3    NOUN    NOUN      NaN         NaN       NaN     PREP         в  0"
      ]
     },
     "execution_count": 9,
     "metadata": {},
     "output_type": "execute_result"
    }
   ],
   "source": [
    "X_df[['b_1_tag', 'f_1_tag', 'f_1_word', 'main_aspect', 'main_case', 'main_tag', 'main_word', 'y']].head(4)"
   ]
  },
  {
   "cell_type": "code",
   "execution_count": 10,
   "metadata": {},
   "outputs": [],
   "source": [
    "# Get dummies from dataset to put it into model\n",
    "X_df = pd.get_dummies(X_df).fillna(0)"
   ]
  },
  {
   "cell_type": "code",
   "execution_count": 11,
   "metadata": {},
   "outputs": [
    {
     "data": {
      "text/plain": [
       "(204388, 720)"
      ]
     },
     "execution_count": 11,
     "metadata": {},
     "output_type": "execute_result"
    }
   ],
   "source": [
    "X_df.shape"
   ]
  },
  {
   "cell_type": "code",
   "execution_count": 12,
   "metadata": {
    "scrolled": true
   },
   "outputs": [
    {
     "data": {
      "text/html": [
       "<div>\n",
       "<style scoped>\n",
       "    .dataframe tbody tr th:only-of-type {\n",
       "        vertical-align: middle;\n",
       "    }\n",
       "\n",
       "    .dataframe tbody tr th {\n",
       "        vertical-align: top;\n",
       "    }\n",
       "\n",
       "    .dataframe thead th {\n",
       "        text-align: right;\n",
       "    }\n",
       "</style>\n",
       "<table border=\"1\" class=\"dataframe\">\n",
       "  <thead>\n",
       "    <tr style=\"text-align: right;\">\n",
       "      <th></th>\n",
       "      <th>b_1_tag_PREP</th>\n",
       "      <th>b_1_tag_NOUN</th>\n",
       "      <th>f_1_tag_PREP</th>\n",
       "      <th>f_1_tag_NOUN</th>\n",
       "      <th>f_1_word_в</th>\n",
       "      <th>main_word_в</th>\n",
       "      <th>y</th>\n",
       "    </tr>\n",
       "  </thead>\n",
       "  <tbody>\n",
       "    <tr>\n",
       "      <th>0</th>\n",
       "      <td>0</td>\n",
       "      <td>0</td>\n",
       "      <td>0</td>\n",
       "      <td>1</td>\n",
       "      <td>0</td>\n",
       "      <td>1</td>\n",
       "      <td>0</td>\n",
       "    </tr>\n",
       "    <tr>\n",
       "      <th>1</th>\n",
       "      <td>1</td>\n",
       "      <td>0</td>\n",
       "      <td>0</td>\n",
       "      <td>1</td>\n",
       "      <td>0</td>\n",
       "      <td>0</td>\n",
       "      <td>0</td>\n",
       "    </tr>\n",
       "    <tr>\n",
       "      <th>2</th>\n",
       "      <td>0</td>\n",
       "      <td>1</td>\n",
       "      <td>1</td>\n",
       "      <td>0</td>\n",
       "      <td>1</td>\n",
       "      <td>0</td>\n",
       "      <td>1</td>\n",
       "    </tr>\n",
       "    <tr>\n",
       "      <th>3</th>\n",
       "      <td>0</td>\n",
       "      <td>1</td>\n",
       "      <td>0</td>\n",
       "      <td>1</td>\n",
       "      <td>0</td>\n",
       "      <td>1</td>\n",
       "      <td>0</td>\n",
       "    </tr>\n",
       "  </tbody>\n",
       "</table>\n",
       "</div>"
      ],
      "text/plain": [
       "   b_1_tag_PREP  b_1_tag_NOUN  f_1_tag_PREP  f_1_tag_NOUN  f_1_word_в  \\\n",
       "0             0             0             0             1           0   \n",
       "1             1             0             0             1           0   \n",
       "2             0             1             1             0           1   \n",
       "3             0             1             0             1           0   \n",
       "\n",
       "   main_word_в  y  \n",
       "0            1  0  \n",
       "1            0  0  \n",
       "2            0  1  \n",
       "3            1  0  "
      ]
     },
     "execution_count": 12,
     "metadata": {},
     "output_type": "execute_result"
    }
   ],
   "source": [
    "X_df[[\n",
    "    'b_1_tag_PREP', 'b_1_tag_NOUN', 'f_1_tag_PREP', 'f_1_tag_NOUN', \n",
    "    'f_1_word_в', 'main_word_в', \n",
    "    'y'\n",
    "]].head(4)"
   ]
  },
  {
   "cell_type": "code",
   "execution_count": 13,
   "metadata": {},
   "outputs": [],
   "source": [
    "y = X_df.y\n",
    "X_df.drop('y', axis=1, inplace=True)\n",
    "X_df['weight'] = 1"
   ]
  },
  {
   "cell_type": "markdown",
   "metadata": {},
   "source": [
    "Huge number of long complicated centences is good, but if we add task specified centences, we can get a better model. "
   ]
  },
  {
   "cell_type": "code",
   "execution_count": 14,
   "metadata": {},
   "outputs": [],
   "source": [
    "import pickle\n",
    "with open('data/y_tasks', 'rb') as file:\n",
    "    y_tasks = pickle.load(file)\n",
    "\n",
    "with open('data/train_tasks', 'rb') as file:\n",
    "    train_tasks = pickle.load(file)"
   ]
  },
  {
   "cell_type": "code",
   "execution_count": 15,
   "metadata": {},
   "outputs": [],
   "source": [
    "# Add data in same format from tasks found in web with 5 times larger weight\n",
    "X1_df = pd.DataFrame([vectorizer(ww, morph, ngram_man) for ww in train_tasks])\n",
    "X1_df = pd.get_dummies(X1_df).fillna(0)\n",
    "X1_df.drop('y', axis=1, inplace=True)\n",
    "X1_df['weight'] = 5"
   ]
  },
  {
   "cell_type": "code",
   "execution_count": 16,
   "metadata": {},
   "outputs": [],
   "source": [
    "X_df = X_df.append(X1_df).fillna(0)\n",
    "y = pd.Series(list(y)+y_tasks)"
   ]
  },
  {
   "cell_type": "code",
   "execution_count": 17,
   "metadata": {},
   "outputs": [
    {
     "data": {
      "text/plain": [
       "0    175554\n",
       "1     33055\n",
       "dtype: int64"
      ]
     },
     "execution_count": 17,
     "metadata": {},
     "output_type": "execute_result"
    }
   ],
   "source": [
    "y.value_counts()"
   ]
  },
  {
   "cell_type": "markdown",
   "metadata": {},
   "source": [
    "# Part II. Modelling"
   ]
  },
  {
   "cell_type": "code",
   "execution_count": 18,
   "metadata": {},
   "outputs": [],
   "source": [
    "from sklearn.metrics import roc_auc_score\n",
    "from sklearn.model_selection import GridSearchCV, RandomizedSearchCV, train_test_split\n",
    "from sklearn.model_selection import StratifiedKFold"
   ]
  },
  {
   "cell_type": "code",
   "execution_count": 105,
   "metadata": {},
   "outputs": [],
   "source": [
    "# split data into train and validation sets\n",
    "X_train, X_val, y_train, y_val = train_test_split(X_df, y, test_size=0.15)\n",
    "\n",
    "W_train = X_train['weight']\n",
    "X_train.drop('weight', axis=1, inplace=True)\n",
    "W_val = X_val['weight']\n",
    "X_val.drop('weight', axis=1, inplace=True)"
   ]
  },
  {
   "cell_type": "code",
   "execution_count": 106,
   "metadata": {},
   "outputs": [],
   "source": [
    "from sklearn.preprocessing import StandardScaler, MinMaxScaler\n",
    "sc = StandardScaler()\n",
    "X_train = sc.fit_transform(X_train)\n",
    "X_val = sc.transform(X_val)"
   ]
  },
  {
   "cell_type": "code",
   "execution_count": 107,
   "metadata": {},
   "outputs": [
    {
     "data": {
      "text/plain": [
       "(177317, 757)"
      ]
     },
     "execution_count": 107,
     "metadata": {},
     "output_type": "execute_result"
    }
   ],
   "source": [
    "X_train.shape"
   ]
  },
  {
   "cell_type": "code",
   "execution_count": 108,
   "metadata": {},
   "outputs": [
    {
     "data": {
      "text/plain": [
       "{0: 0.5943772542604685, 1: 3.148943349316285}"
      ]
     },
     "execution_count": 108,
     "metadata": {},
     "output_type": "execute_result"
    }
   ],
   "source": [
    "from sklearn.utils import class_weight\n",
    "import numpy as np\n",
    "class_weights = class_weight.compute_class_weight('balanced', np.unique(y_train), y_train)\n",
    "class_weights = {k: v for k, v in enumerate(class_weights)}\n",
    "class_weights"
   ]
  },
  {
   "cell_type": "code",
   "execution_count": 109,
   "metadata": {},
   "outputs": [
    {
     "name": "stderr",
     "output_type": "stream",
     "text": [
      "/Users/darya.guselnikova/anaconda3/lib/python3.7/site-packages/ipykernel_launcher.py:10: UserWarning: Update your `Dense` call to the Keras 2 API: `Dense(40, input_shape=(757,), kernel_initializer=\"uniform\")`\n",
      "  # Remove the CWD from sys.path while we load stuff.\n",
      "/Users/darya.guselnikova/anaconda3/lib/python3.7/site-packages/ipykernel_launcher.py:14: UserWarning: Update your `Dense` call to the Keras 2 API: `Dense(10, kernel_initializer=\"uniform\")`\n",
      "  \n",
      "/Users/darya.guselnikova/anaconda3/lib/python3.7/site-packages/ipykernel_launcher.py:18: UserWarning: Update your `Dense` call to the Keras 2 API: `Dense(1, kernel_initializer=\"uniform\")`\n"
     ]
    }
   ],
   "source": [
    "# building a model with keras\n",
    "from keras.layers import Dense, Activation, Dropout\n",
    "from keras.models import Sequential\n",
    "from keras.callbacks import ProgbarLogger\n",
    "from keras import backend as K \n",
    "\n",
    "K.clear_session()\n",
    "model = Sequential()  \n",
    "\n",
    "model.add(Dense(40, input_shape=(X_train.shape[1],), init = 'uniform')) \n",
    "model.add(Dropout(.3))\n",
    "model.add(Activation('relu'))\n",
    "\n",
    "model.add(Dense(10, init = 'uniform'))\n",
    "model.add(Dropout(.1))\n",
    "model.add(Activation('relu'))\n",
    "\n",
    "model.add(Dense(1, init = 'uniform'))\n",
    "model.add(Activation('sigmoid'))"
   ]
  },
  {
   "cell_type": "code",
   "execution_count": 110,
   "metadata": {},
   "outputs": [
    {
     "name": "stdout",
     "output_type": "stream",
     "text": [
      "Model: \"sequential_1\"\n",
      "_________________________________________________________________\n",
      "Layer (type)                 Output Shape              Param #   \n",
      "=================================================================\n",
      "dense_1 (Dense)              (None, 40)                30320     \n",
      "_________________________________________________________________\n",
      "dropout_1 (Dropout)          (None, 40)                0         \n",
      "_________________________________________________________________\n",
      "activation_1 (Activation)    (None, 40)                0         \n",
      "_________________________________________________________________\n",
      "dense_2 (Dense)              (None, 10)                410       \n",
      "_________________________________________________________________\n",
      "dropout_2 (Dropout)          (None, 10)                0         \n",
      "_________________________________________________________________\n",
      "activation_2 (Activation)    (None, 10)                0         \n",
      "_________________________________________________________________\n",
      "dense_3 (Dense)              (None, 1)                 11        \n",
      "_________________________________________________________________\n",
      "activation_3 (Activation)    (None, 1)                 0         \n",
      "=================================================================\n",
      "Total params: 30,741\n",
      "Trainable params: 30,741\n",
      "Non-trainable params: 0\n",
      "_________________________________________________________________\n"
     ]
    }
   ],
   "source": [
    "model.summary()"
   ]
  },
  {
   "cell_type": "code",
   "execution_count": 111,
   "metadata": {},
   "outputs": [],
   "source": [
    "from keras.callbacks import Callback, EarlyStopping\n",
    "my_callbacks = [EarlyStopping(monitor='val_loss', patience=7, verbose=1, mode='min')]\n",
    "\n",
    "model.compile(\n",
    "    loss='binary_crossentropy', \n",
    "    optimizer='adam',\n",
    "    metrics=['accuracy']\n",
    ")"
   ]
  },
  {
   "cell_type": "code",
   "execution_count": 112,
   "metadata": {
    "scrolled": true
   },
   "outputs": [
    {
     "name": "stdout",
     "output_type": "stream",
     "text": [
      "Train on 177317 samples, validate on 31292 samples\n",
      "Epoch 1/100\n",
      " - 19s - loss: 0.5572 - accuracy: 0.7117 - val_loss: 0.5055 - val_accuracy: 0.7775\n",
      "Epoch 2/100\n",
      " - 19s - loss: 0.4956 - accuracy: 0.7710 - val_loss: 0.5353 - val_accuracy: 0.7553\n",
      "Epoch 3/100\n",
      " - 18s - loss: 0.4677 - accuracy: 0.7835 - val_loss: 0.4874 - val_accuracy: 0.8005\n",
      "Epoch 4/100\n",
      " - 22s - loss: 0.4495 - accuracy: 0.7925 - val_loss: 0.4910 - val_accuracy: 0.8018\n",
      "Epoch 5/100\n",
      " - 22s - loss: 0.4379 - accuracy: 0.7966 - val_loss: 0.4669 - val_accuracy: 0.8039\n",
      "Epoch 6/100\n",
      " - 37s - loss: 0.4293 - accuracy: 0.8002 - val_loss: 0.5186 - val_accuracy: 0.7869\n",
      "Epoch 7/100\n",
      " - 17s - loss: 0.4248 - accuracy: 0.8001 - val_loss: 0.4499 - val_accuracy: 0.8151\n",
      "Epoch 8/100\n",
      " - 19s - loss: 0.4192 - accuracy: 0.7967 - val_loss: 0.4498 - val_accuracy: 0.7968\n",
      "Epoch 9/100\n",
      " - 19s - loss: 0.4160 - accuracy: 0.7907 - val_loss: 0.4736 - val_accuracy: 0.7872\n",
      "Epoch 10/100\n",
      " - 18s - loss: 0.4128 - accuracy: 0.7936 - val_loss: 0.4426 - val_accuracy: 0.8039\n",
      "Epoch 11/100\n",
      " - 18s - loss: 0.4081 - accuracy: 0.7954 - val_loss: 0.4423 - val_accuracy: 0.8013\n",
      "Epoch 12/100\n",
      " - 18s - loss: 0.4048 - accuracy: 0.7961 - val_loss: 0.4407 - val_accuracy: 0.8015\n",
      "Epoch 13/100\n",
      " - 18s - loss: 0.4066 - accuracy: 0.7982 - val_loss: 0.4242 - val_accuracy: 0.8029\n",
      "Epoch 14/100\n",
      " - 18s - loss: 0.4023 - accuracy: 0.7974 - val_loss: 0.4309 - val_accuracy: 0.8025\n",
      "Epoch 15/100\n",
      " - 17s - loss: 0.4020 - accuracy: 0.7998 - val_loss: 0.4351 - val_accuracy: 0.8012\n",
      "Epoch 16/100\n",
      " - 21s - loss: 0.3968 - accuracy: 0.8030 - val_loss: 0.4491 - val_accuracy: 0.7962\n",
      "Epoch 17/100\n",
      " - 20s - loss: 0.4006 - accuracy: 0.7976 - val_loss: 0.4116 - val_accuracy: 0.8024\n",
      "Epoch 18/100\n",
      " - 24s - loss: 0.3943 - accuracy: 0.8019 - val_loss: 0.4300 - val_accuracy: 0.8052\n",
      "Epoch 19/100\n",
      " - 19s - loss: 0.3942 - accuracy: 0.7996 - val_loss: 0.4292 - val_accuracy: 0.8005\n",
      "Epoch 20/100\n",
      " - 22s - loss: 0.3915 - accuracy: 0.8015 - val_loss: 0.4202 - val_accuracy: 0.8022\n",
      "Epoch 21/100\n",
      " - 25s - loss: 0.3934 - accuracy: 0.8005 - val_loss: 0.4203 - val_accuracy: 0.8117\n",
      "Epoch 22/100\n",
      " - 25s - loss: 0.3926 - accuracy: 0.8004 - val_loss: 0.4173 - val_accuracy: 0.8012\n",
      "Epoch 23/100\n",
      " - 23s - loss: 0.3934 - accuracy: 0.8044 - val_loss: 0.4106 - val_accuracy: 0.8064\n",
      "Epoch 24/100\n",
      " - 23s - loss: 0.3914 - accuracy: 0.8050 - val_loss: 0.4156 - val_accuracy: 0.8058\n",
      "Epoch 25/100\n",
      " - 23s - loss: 0.3857 - accuracy: 0.8037 - val_loss: 0.4146 - val_accuracy: 0.7993\n",
      "Epoch 26/100\n",
      " - 24s - loss: 0.3878 - accuracy: 0.8013 - val_loss: 0.4024 - val_accuracy: 0.8110\n",
      "Epoch 27/100\n",
      " - 23s - loss: 0.3858 - accuracy: 0.8038 - val_loss: 0.4175 - val_accuracy: 0.8007\n",
      "Epoch 28/100\n",
      " - 23s - loss: 0.3849 - accuracy: 0.8026 - val_loss: 0.4179 - val_accuracy: 0.8105\n",
      "Epoch 29/100\n",
      " - 23s - loss: 0.3881 - accuracy: 0.8048 - val_loss: 0.4241 - val_accuracy: 0.8005\n",
      "Epoch 30/100\n",
      " - 23s - loss: 0.3834 - accuracy: 0.8022 - val_loss: 0.4370 - val_accuracy: 0.8012\n",
      "Epoch 31/100\n",
      " - 24s - loss: 0.3835 - accuracy: 0.8032 - val_loss: 0.4132 - val_accuracy: 0.8047\n",
      "Epoch 32/100\n",
      " - 23s - loss: 0.3869 - accuracy: 0.8036 - val_loss: 0.4059 - val_accuracy: 0.8114\n",
      "Epoch 33/100\n",
      " - 23s - loss: 0.3841 - accuracy: 0.8026 - val_loss: 0.4371 - val_accuracy: 0.7939\n",
      "Epoch 00033: early stopping\n"
     ]
    }
   ],
   "source": [
    "history = model.fit(\n",
    "    X_train, \n",
    "    y_train,\n",
    "    batch_size=64, \n",
    "    epochs=100,\n",
    "    validation_data=(X_val, y_val, W_val.values),\n",
    "    verbose=2,\n",
    "    class_weight=class_weights,\n",
    "    callbacks=my_callbacks,\n",
    "    sample_weight=W_train.values\n",
    ")"
   ]
  },
  {
   "cell_type": "code",
   "execution_count": 113,
   "metadata": {},
   "outputs": [
    {
     "data": {
      "image/png": "[encoded data removed]",
      "text/plain": [
       "<Figure size 1080x360 with 2 Axes>"
      ]
     },
     "metadata": {
      "needs_background": "light"
     },
     "output_type": "display_data"
    }
   ],
   "source": [
    "%matplotlib inline\n",
    "from code_snippets.utils import plot_learning_metrics\n",
    "\n",
    "plot_learning_metrics(history)"
   ]
  },
  {
   "cell_type": "markdown",
   "metadata": {},
   "source": [
    "During the analysis of the model results on test tasks, I found out that it skips commas more often in the right places than puts extra ones. Therefore, we need to select a lower threshold of probability."
   ]
  },
  {
   "cell_type": "markdown",
   "metadata": {},
   "source": [
    "# Part III. Apply model on tasks"
   ]
  },
  {
   "cell_type": "code",
   "execution_count": 124,
   "metadata": {},
   "outputs": [],
   "source": [
    "from code_snippets.checker import Checker, check_solution\n",
    "test_checker = Checker('data/check-v2', is_nested=False)"
   ]
  },
  {
   "cell_type": "code",
   "execution_count": 135,
   "metadata": {
    "scrolled": true
   },
   "outputs": [
    {
     "name": "stdout",
     "output_type": "stream",
     "text": [
      "0.1 0.25\n",
      "0.2 0.175\n",
      "0.3 0.175\n",
      "0.4 0.15\n",
      "0.5 0.2\n",
      "0.6 0.1\n"
     ]
    }
   ],
   "source": [
    "# saved task accuracy for different thresholds\n",
    "# for t in answers:\n",
    "#     print(t, np.mean(answers[t]))"
   ]
  },
  {
   "cell_type": "markdown",
   "metadata": {},
   "source": [
    "Here are results of model application on test tasks. The results are quite good for such a simple model: 25 % of tasks were solved write for all commas. Most tasks are partly correct."
   ]
  },
  {
   "cell_type": "code",
   "execution_count": 136,
   "metadata": {
    "scrolled": false
   },
   "outputs": [
    {
     "name": "stdout",
     "output_type": "stream",
     "text": [
      "Predictions for threshold: 0.1\n",
      "\n",
      "Расставьте знаки препинания.\n",
      "Несмотря на осеннюю прохладу (1) он решил отдохнуть в лесу и прилёг на одном из незаросших мест (2) сплошь усыпанном (3) золотыми листьями (4) налетевшими на полянку с (5) окаймлявших её (6) деревьев.\n",
      "Укажите цифру(-ы), на месте которой(-ых) должна(-ы) стоять запятая(-ые).\n",
      "{'prediction': [1, 2]}\n",
      "{'correct': ['1', '2', '4']}\n",
      "\n",
      "Расставьте все знаки препинания: укажите цифру(-ы), на месте которой(-ых) в предложении должна(-ы) стоять запятая(-ые). Перифраза — оборот речи, который состоит в замене слова описательным сочетанием (1) содержащим (2) элемент характеристики описываемого предмета или лица (3) и помогающим (4) избежать неоправданных повторов в тексте.\n",
      "{'prediction': [1, 3]}\n",
      "{'correct': ['1']}\n",
      "\n",
      "Расставьте все знаки препинания: укажите цифру(-ы), на месте которой(-ых) в предложении должна(-ы) стоять запятая(-ые). Под солнцем (1) соперничая с ним (2) ярко светились необыкновенно высокие, сочные и крупноцветные купальницы (3) похожие на жёлтые розы.\n",
      "{'prediction': [1]}\n",
      "{'correct': ['1', '2', '3']}\n",
      "\n",
      "Расставьте все знаки препинания: укажите цифру(-ы), на месте которой(-ых) в предложении должна(-ы) стоять запятая(-ые). По ясному небу плавно неслись (1) не закрывая солнца (2) низкие дымчатые облака (3) постепенно исчезающие (4) в синеве.\n",
      "{'prediction': [1, 2, 3]}\n",
      "{'correct': ['1', '2', '3']}\n",
      "\n",
      "Расставьте все знаки препинания: укажите цифру(-ы), на месте которой(-ых) в предложении должна(-ы) стоять запятая(-ые). Шиповник (1) покрытый множеством острых игл (2) стоял на опушке (3) повернувшись большими цветами (4) к солнцу.\n",
      "{'prediction': [1, 2, 3, 4]}\n",
      "{'correct': ['1', '2', '3']}\n",
      "\n",
      "Расставьте знаки препинания: укажите цифру(-ы), на месте которой(-ых)в предложении должна(-ы) стоять запятая(-ые).\n",
      "Уже (1) выйдя из университета (2) и (3) приготовляясь на свои две тысячи съездить за границу (4) Иван Фёдорович вдруг напечатал в одной из больших газет странную статью (5) обратившую на себя внимание даже неспециалистов.\n",
      "{'prediction': [3]}\n",
      "{'correct_variants': [['4', '5'], ['5', '4']]}\n",
      "\n",
      "Расставьте знаки препинания.\n",
      "Растущие на дне (1) водоросли (2) и многие животные (3) обитающие в зоне приливов (4) во время отлива часами живут на воздухе.\n",
      "Укажите цифру(-ы), на месте которой(-ых) в предложении должна(-ы) стоять запятая(-ые).\n",
      "{'prediction': [2, 3, 4]}\n",
      "{'correct_variants': [['3', '4'], ['4', '3']]}\n",
      "\n",
      "Расставьте все знаки препинания: укажите цифру(-ы), на месте которой(-ых) в предложении должна(-ы) стоять запятая(-ые). Уже в наше время исследователи творчества Э. А. По (1) получив в своё распоряжение (2) скрывавшиеся прежде (3) материалы (4) смогли установить связь между жизнью и творчеством американского писателя.\n",
      "Bad prediction: No commas\n",
      "{'prediction': [1]}\n",
      "{'correct_variants': [['1', '4'], ['4', '1']]}\n",
      "\n",
      "Расставьте знаки препинания: укажите цифру(-ы), на месте которой(-ых) в предложении должна(-ы) стоять запятая(-ые).\n",
      "Во время представления один пожилой господин в маске (1) старательно танцуя (2) толокся на одном месте с солидным выражением на лице (3) часто и мелко (4) семеня ногами (5) и (6) почти не сдвигаясь с места.\n",
      "{'prediction': [1, 3, 5]}\n",
      "{'correct': ['1', '2', '3']}\n",
      "\n",
      "Расставьте все знаки препинания: укажите цифру(-ы), на месте которой(-ых) в предложении должна(-ы) стоять запятая(-ые). Степной воздух (1) наполненный тысячью разных птичьих свистов (2) был жарким, а в высоком небе неподвижно стояли ястребы (3) распластав свои крылья ( 4) и неподвижно устремив глаза свои в траву...\n",
      "{'prediction': [1, 2, 3]}\n",
      "{'correct': ['1', '2', '3']}\n",
      "\n",
      "Расставьте все недостающие знаки препинания.\n",
      "Мир опустел… Теперь куда же\n",
      "Меня б (1) ты (2) вынес (3) океан?\n",
      "Судьба земли повсюду та же:\n",
      "Где капля блага, там на страже\n",
      "Уж просвещенье иль тиран.\n",
      "Прощай же (4) море! Не забуду\n",
      "Твоей торжественной красы\n",
      "И долго, долго слышать буду (5)\n",
      "Твой гул (6) в вечерние часы.\n",
      "(А.С. Пушкин)\n",
      "Укажите цифру(-ы), на месте которой(-ых) должна(-ы) стоять запятая(-ые).\n",
      "{'prediction': [4, 6]}\n",
      "{'correct_variants': [['3', '4'], ['4', '3']]}\n",
      "\n",
      "Расставьте все недостающие знаки препинания: укажите цифру(-ы), на месте которой(-ых) в предложении должна(-ы) стоять запятая(-ые). Яркие  иллюстрации  в  книге  (1)  конечно  (2)  привлекают  внимание читателя. Мнение известного критика (3) казалось (4) убедительным.\n",
      "{'prediction': [3, 4]}\n",
      "{'correct_variants': [['1', '2'], ['2', '1']]}\n",
      "\n",
      "Расставьте все недостающие знаки препинания: укажите цифру(-ы), на месте которой(-ых) в предложении должна(-ы) стоять запятая(-ые). В общем-то (1) никогда не поздно взяться за дело собственными силами, и тогда достичь нужного результата (2) вполне (3) возможно.\n",
      "{'prediction': [1]}\n",
      "{'correct': ['1']}\n",
      "\n",
      "Расставьте все недостающие знаки препинания: укажите цифру(-ы), на месте которой(-ых) в предложении должна(-ы) стоять запятая(-ые). Мальчик был непоколебим и (1) по-видимому (2) с исключительным упорством добивался своего. Вот и в этот раз родители (3) наконец (4) уступили и сделали так, как хотел их сын.\n",
      "{'prediction': [1, 2]}\n",
      "{'correct': ['1', '2']}\n",
      "\n",
      "Расставьте все знаки препинания: укажите цифру(-ы), на месте которой(-ых) должна(-ы) стоять запятая(-ые). Пройдите (1) вы (2) гости (3) по улице старой,По новым домам, по колхозным амбарам.По скотным дворам, по усадьбе пройдёте,Наверно (4) вы песню тогда нам споёте.  (А. Т. Твардовский)\n",
      "{'prediction': [2, 3]}\n",
      "{'correct': ['2', '3', '4']}\n",
      "\n",
      "Расставьте все недостающие знаки препинания: укажите цифру(-ы), на месте которой(-ых) в предложениях должна(-ы) стоять запятая(-ые).\n",
      "От сердца нашего избытка,\n",
      "от доброй воли (1) так сказать (2)\n",
      "мы в годы юности Магниткой (3)\n",
      "тебя (4) привыкли называть.\n",
      "<…>\n",
      "Я просто счастлив тем (5) однако (6)\n",
      "что помню зимний твой вокзал,\n",
      "что ночевал в твоих бараках,\n",
      "в твоих газетах выступал.\n",
      "\n",
      "И, видно (7) я хоть что-то стою,\n",
      "когда в начале всех дорог (8)\n",
      "хотя бы (9) строчкою одною\n",
      "тебе по-дружески помог.\n",
      "\n",
      "(Я.В. Смеляков)\n",
      "{'prediction': [1, 5, 6, 7]}\n",
      "{'correct': ['1', '2', '5', '6', '7']}\n",
      "\n",
      "Расставьте все недостающие знаки препинания.\n",
      "Пронизан солнцем лес насквозь.\n",
      "Лучи стоят столбами пыли.\n",
      "Отсюда (1) уверяют (2) лось\n",
      "Выходит на дорог развилье.\n",
      "В лесу молчанье, тишина,\n",
      "Как будто (3) жизнь в глухой лощине\n",
      "Не солнцем заворожена,\n",
      "А по совсем другой причине.\n",
      "Действительно (4) невдалеке\n",
      "Средь зарослей стоит лосиха.\n",
      "Пред ней деревья в столбняке,\n",
      "Вот (5) отчего в лесу так тихо.\n",
      "(Б. Пастернак)\n",
      "Укажите цифру(-ы), на месте которой(-ых) в предложении должна(-ы) стоять запятая(-ые).\n",
      "Bad prediction: No commas\n",
      "{'prediction': [4]}\n",
      "{'correct': ['1', '2', '4']}\n",
      "\n",
      "Расставьте все недостающие знаки препинания: укажите цифру(-ы), на месте которой(-ых) в предложении должна(-ы) стоять запятая(-ые). Среди поэтов «серебряного века» А. Блок занимает (1) несомненно (2) особое положение. Он не повторяет чужих тем, но черпает содержание своих стихов (3) исключительно (4) из глубины своей души.\n",
      "{'prediction': [3]}\n",
      "{'correct_variants': [['1', '2'], ['2', '1']]}\n",
      "\n",
      "Расставьте все недостающие знаки препинания: укажите цифру(-ы), на месте которой(-ых) в предложениях должна(-ы) стоять запятая(-ые).\n",
      "Ах, война (1) что ж (2) ты (3) сделала (4) подлая:\n",
      "стали тихими наши дворы,\n",
      "наши мальчики головы подняли,\n",
      "повзрослели они до поры,\n",
      "на пороге едва помаячили\n",
      "и ушли за солдатом солдат...\n",
      "\n",
      "До свидания (5) мальчики! Мальчики (6)\n",
      "постарайтесь вернуться назад.\n",
      "\n",
      "Нет, не прячьтесь (7) вы, будьте высокими,\n",
      "не жалейте ни пуль, ни гранат\n",
      "и себя не щадите... И (8) всё-таки (9)\n",
      "постарайтесь вернуться назад.\n",
      "\n",
      "(Б. Окуджава)\n",
      "{'prediction': [1, 5, 6]}\n",
      "{'correct': ['1', '4', '5', '6']}\n",
      "\n",
      "Расставьте все недостающие знаки препинания: укажите цифру(-ы), на месте которой(-ых) в предложении должна(-ы) стоять запятая(-ые). Женщина за прилавком (1) как будто (2) только ждала подходящего повода выразить своё возмущение. Она (3) по-видимому (4) не отличалась терпением.\n",
      "{'prediction': [1, 3, 4]}\n",
      "{'correct_variants': [['3', '4'], ['4', '3']]}\n",
      "\n",
      "Расставьте все знаки препинания.\n",
      "С западной стороны была стена (1) взобраться (2) на которую (3) не составляло большого труда (4) поскольку в ней было множество трещин.\n",
      "Укажите цифру(-ы), на месте которой(-ых) должна(-ы) стоять запятая(-ые).\n",
      "{'prediction': [1, 4]}\n",
      "{'correct_variants': [['1', '4'], ['4', '1']]}\n",
      "\n",
      "Расставьте все знаки препинания: укажите цифру(-ы), на месте которой(-ых) в предложении должна(-ы) стоять запятая(-ые). В Греции классической эпохи (1) для социального строя (2) которой (3) типична форма города-государства (4) возникли особо благоприятные условия для расцвета ораторского искусства.\n",
      "{'prediction': [1]}\n",
      "{'correct_variants': [['1', '4'], ['4', '1']]}\n",
      "\n"
     ]
    },
    {
     "name": "stdout",
     "output_type": "stream",
     "text": [
      "Расставьте все знаки препинания: укажите цифру(-ы), на месте которой(-ых) в предложении должна(-ы) стоять запятая(-ые). Для понимания вашего конспекта (1) необходимо иметь перед глазами ту книгу (2) по поводу (3) которой (4) сделаны заметки.\n",
      "{'prediction': [1]}\n",
      "{'correct': ['2']}\n",
      "\n",
      "Расставьте все знаки препинания: укажите цифру(-ы), на месте которой(-ых) в предложении должна(-ы) стоять запятая(-ые). Тем временем (1) пожилой хозяин (2) на лице (3) которого (4) было написано истинное добродушие (5) с искренним участием расспрашивал меня о путешествии.\n",
      "{'prediction': [1, 2, 5]}\n",
      "{'correct_variants': [['2', '5'], ['5', '2']]}\n",
      "\n",
      "Расставьте все знаки препинания: укажите цифру(-ы), на месте которой(-ых) в предложении должна(-ы) стоять запятая(-ые). Солнечным и ясным утром Володя и Лида шли по красивой аллее (1) в глубине (2) которой (3) виднелось двухэтажное белое здание (4) и мило беседовали.\n",
      "{'prediction': [1, 4]}\n",
      "{'correct_variants': [['1', '4'], ['4', '1']]}\n",
      "\n",
      "Расставьте знаки препинания: укажите цифру(-ы), на месте которой(-ых) в предложении должна(-ы) стоять запятая(-ые).\n",
      "Через несколько минут (1) в течение (2) которых (3) сановник успел заметить два раза (4) что он очень рад успеть к обеду (5) всё общество отправилось в столовую.\n",
      "{'prediction': [4]}\n",
      "{'correct': ['1', '4', '5']}\n",
      "\n",
      "Расставьте все знаки препинания.\n",
      "В тайге (1) растут берёзы (2) стволы (3) которых (4) имеют большие наросты.\n",
      "Укажите цифру(-ы), на месте которой(-ых) в предложении должна(-ы) стоять запятая(-ые).\n",
      "Bad prediction: No commas\n",
      "{'prediction': [3]}\n",
      "{'correct': ['2']}\n",
      "\n",
      "Расставьте все знаки препинания: укажите цифру(-ы), на месте которой(-ых) в предложении должна(-ы) стоять запятая(-ые). Солнечным и ясным утром Володя и Лида шли по красивой аллее (1) в глубине (2) которой (3) виднелось двухэтажное белое здание (4) и мило беседовали.\n",
      "{'prediction': [1, 4]}\n",
      "{'correct_variants': [['1', '4'], ['4', '1']]}\n",
      "\n",
      "Расставьте знаки препинания: укажите цифру(-ы), на месте которой(-ых) в предложении должна(-ы) стоять запятая(-ые).\n",
      "На колокольне Михайловского монастыря пробило четыре (1) когда я, перейдя пустырь, вступил в боковую аллею Александровского парка (2) в глубине (3) которого (4) между чёрных стволов обнажённых деревьев просматривалась Александровская колонна.\n",
      "{'prediction': [1, 2, 4]}\n",
      "{'correct': ['1', '2']}\n",
      "\n",
      "Расставьте все знаки препинания: укажите цифру(-ы), на месте которой(-ых) в предложении должна(-ы) стоять запятая(-ые). В  Гороховой улице, в одном из больших домов (1) народонаселения (2) которого  (3)  хватило  бы  на  целый  уездный  город  (4)  лежал  утром в постели, на своей квартире, Илья Ильич Обломов.  \n",
      "{'prediction': [4]}\n",
      "{'correct_variants': [['1', '4'], ['4', '1']]}\n",
      "\n",
      "Расставьте знаки препинания.\n",
      "Николай Николаевич старается идти рядом (1) но (2) так как он путается между деревьями и спотыкается (3) то ему часто приходится догонять своего спутника вприпрыжку.\n",
      "Укажите цифру(-ы), на месте которой(-ых) должна(-ы) стоять запятая(-ые).\n",
      "{'prediction': [1, 3]}\n",
      "{'correct_variants': [['1', '3'], ['3', '1']]}\n",
      "\n",
      "Расставьте все знаки препинания: укажите цифру(-ы), на месте которой(-ых) в предложении должна(-ы) стоять запятая(-ые). До рассвета далеко (1) и над спящим лесом плывёт прозрачная ночная тишина (2) и (3) когда привыкнешь к ней (4) явственно начинает слышаться каждый шорох и шёпот.\n",
      "{'prediction': [1, 2, 3]}\n",
      "{'correct': ['1', '2', '3', '4']}\n",
      "\n",
      "Расставьте все знаки препинания: укажите цифру(-ы), на месте которой(-ых) в предложении должна(-ы) стоять запятая(-ые). К ним (часам) все так привыкли (1) что (2) если бы они пропали (3) как-нибудь чудом со стены (4) грустно было бы, словно умер родной голос и ничем пустого места не заткнешь. (Булгаков) \n",
      "{'prediction': [1, 2, 4]}\n",
      "{'correct': ['1', '2', '4']}\n",
      "\n",
      "Расставьте все знаки препинания: укажите цифру(-ы), на месте которой(-ых) в предложении должна(-ы) стоять запятая(-ые). Вскоре Николай был произведён в ротмистры (1) и (2) когда полк был поставлен на военное положение (3) опять получил свой прежний эскадрон (4) в котором его помнили и любили.\n",
      "{'prediction': [2]}\n",
      "{'correct': ['2', '3', '4']}\n",
      "\n",
      "Расставьте все знаки препинания: укажите цифру(-ы), на месте которой(-ых) в предложении должна(-ы) стоять запятая(-ые). Катя слушала рассказ о новейших достижениях в области ядерной физики очень внимательно (1) и (2) если бы Константинов не осознавал (3) что сфера его научных интересов не может по-настоящему волновать столь юную особу (4) он продолжал бы свои рассуждения.\n",
      "{'prediction': [3, 4]}\n",
      "{'correct': ['1', '2', '3', '4']}\n",
      "\n",
      "Расставьте знаки препинания: укажите цифру(-ы), на месте которой(-ых) в предложении должна(-ы) стоять запятая(-ые).\n",
      "Когда визжит дверь (1) и раздаются басистые голоса (2) Хижнякову кажется (3) что это пришли к нему и за ним (4) и он долго прислушивается (5) пока поймёт (6) кому принадлежит голос.\n",
      "{'prediction': [1, 3]}\n",
      "{'correct': ['2', '3', '4', '5', '6']}\n",
      "\n",
      "Расставьте знаки препинания.\n",
      "Он знал (1) что (2) если (3) когда-нибудь (4) станет жертвой мошенников (5) то это произойдёт из-за его излишней доверчивости.\n",
      "Укажите цифру(-ы), на месте которой(-ых) в предложении должна(-ы) стоять запятая(-ые).\n",
      "{'prediction': [1, 2, 5]}\n",
      "{'correct_variants': [['1', '5'], ['5', '1']]}\n",
      "\n",
      "Расставьте все знаки препинания: укажите цифру(-ы), на месте которой(-ых) в предложении должна(-ы) стоять запятая(-ые). Стояла прекрасная погода (1) и (2) хотя октябрь был в самом разгаре (3) на деревьях по-прежнему трепетала зелёная листва (4) а солнце грело по-летнему.\n",
      "{'prediction': [1, 2, 3, 4]}\n",
      "{'correct': ['1', '2', '3', '4']}\n",
      "\n",
      "Расставьте знаки препинания: укажите все цифры, на месте которых в предложении должны стоять запятые.\n",
      "Он заявил (1) что желает переговорить с ней (2) и (3) когда получил уклончивый, даже дерзкий ответ (4) что она не хочет с ним говорить (5) то ему пришла в голову давно задуманная мысль (6) о которой он заявлял Конятовскому, Полиектову и другим.\n",
      "{'prediction': [1, 3, 4, 5]}\n",
      "{'correct': ['1', '2', '4', '5', '6']}\n",
      "\n",
      "Расставьте все знаки препинания: укажите цифру(-ы), на месте которой(-ых) в предложении должна(-ы) стоять запятая(-ые). Хаджи-Мурат сидел рядом в комнате (1) и (2) хотя не понимал разговора (3) чувствовал (4) что спорили о нём.. В ответ выпишите цифры в порядке возрастания.\n",
      "{'prediction': [1, 2, 4]}\n",
      "{'correct': ['2', '3', '4']}\n",
      "\n",
      "0.1 0.25\n",
      "\n"
     ]
    }
   ],
   "source": [
    "from code_snippets.model_testing import test_model\n",
    "\n",
    "X_df_columns = X_df.drop('weight', axis=1).columns\n",
    "answers = test_model(model, test_checker, morph, ngram_man, thresholds=[.1], X_df_columns=X_df_columns)"
   ]
  },
  {
   "cell_type": "code",
   "execution_count": null,
   "metadata": {},
   "outputs": [],
   "source": []
  },
  {
   "cell_type": "code",
   "execution_count": null,
   "metadata": {},
   "outputs": [],
   "source": []
  }
 ],
 "metadata": {
  "kernelspec": {
   "display_name": "Python 3",
   "language": "python",
   "name": "python3"
  },
  "language_info": {
   "codemirror_mode": {
    "name": "ipython",
    "version": 3
   },
   "file_extension": ".py",
   "mimetype": "text/x-python",
   "name": "python",
   "nbconvert_exporter": "python",
   "pygments_lexer": "ipython3",
   "version": "3.7.3"
  }
 },
 "nbformat": 4,
 "nbformat_minor": 2
}
