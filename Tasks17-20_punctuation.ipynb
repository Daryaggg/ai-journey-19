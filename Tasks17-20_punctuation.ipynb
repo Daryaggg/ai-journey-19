{
 "cells": [
  {
   "cell_type": "markdown",
   "metadata": {},
   "source": [
    "# Punctuation tasks\n",
    "In this tasks we have to predict commas in given sentences."
   ]
  },
  {
   "cell_type": "code",
   "execution_count": 1,
   "metadata": {},
   "outputs": [],
   "source": [
    "%reload_ext autoreload\n",
    "%autoreload 2\n",
    "\n",
    "from warnings import filterwarnings\n",
    "filterwarnings('ignore')"
   ]
  },
  {
   "cell_type": "markdown",
   "metadata": {},
   "source": [
    "# Part I. Data processing"
   ]
  },
  {
   "cell_type": "code",
   "execution_count": 2,
   "metadata": {},
   "outputs": [],
   "source": [
    "from sberbank_baseline.data_processing import NgramManager\n",
    "ngram_man = NgramManager()"
   ]
  },
  {
   "cell_type": "code",
   "execution_count": 3,
   "metadata": {},
   "outputs": [],
   "source": [
    "from code_snippets.data_processing import get_sentences_from_text, sentance_to_windows, vectorizer\n",
    "from code_snippets.utils import MyMorph"
   ]
  },
  {
   "cell_type": "code",
   "execution_count": 4,
   "metadata": {},
   "outputs": [
    {
     "name": "stdout",
     "output_type": "stream",
     "text": [
      "часть первая\n",
      "\n",
      "в конце ноября, в оттепель, часов в девять утра, поезд петербургско-варшавской железной дороги на всех парах подходил к петербургу\n",
      "\n",
      " было так сыро и туманно, что насилу рассвело; в десяти шагах, вправо и влево от дороги, трудно было разглядеть хоть что-нибудь из окон вагона\n",
      "\n",
      " из пассажиров были и возвращавшиеся из-за границы; но более были наполнены отделения для третьего класса, и всё людом мелким и деловым, не из очень далека\n"
     ]
    }
   ],
   "source": [
    "sentences = get_sentences_from_text('data/Dostoevskiyi_F._Idiot.txt', min_symbols_in_sent=10)\n",
    "print(*sentences[:4], sep='\\n\\n')"
   ]
  },
  {
   "cell_type": "code",
   "execution_count": 5,
   "metadata": {},
   "outputs": [
    {
     "name": "stdout",
     "output_type": "stream",
     "text": [
      "([], 'в', ['конце', 'ноября,', 'в', 'оттепель,', 'часов'])\n",
      "\n",
      "(['в'], 'конце', ['ноября,', 'в', 'оттепель,', 'часов', 'в'])\n",
      "\n",
      "(['в', 'конце'], 'ноября,', ['в', 'оттепель,', 'часов', 'в', 'девять'])\n",
      "\n",
      "(['в', 'конце', 'ноября,'], 'в', ['оттепель,', 'часов', 'в', 'девять', 'утра,'])\n"
     ]
    }
   ],
   "source": [
    "word_windows = []\n",
    "for sentence in sentences:\n",
    "    word_windows += sentance_to_windows(sentence, n_backw=5, n_frontw=5)\n",
    "    \n",
    "print(*word_windows[:4], sep='\\n\\n')"
   ]
  },
  {
   "cell_type": "code",
   "execution_count": 6,
   "metadata": {},
   "outputs": [],
   "source": [
    "import pandas as pd\n",
    "morph = MyMorph()\n",
    "X_df = pd.DataFrame([vectorizer(ww, morph, ngram_man) for ww in word_windows])"
   ]
  },
  {
   "cell_type": "code",
   "execution_count": 7,
   "metadata": {},
   "outputs": [
    {
     "data": {
      "text/plain": [
       "(204388, 32)"
      ]
     },
     "execution_count": 7,
     "metadata": {},
     "output_type": "execute_result"
    }
   ],
   "source": [
    "X_df.shape"
   ]
  },
  {
   "cell_type": "code",
   "execution_count": 8,
   "metadata": {},
   "outputs": [],
   "source": [
    "# X_df.to_csv('data/X_df.csv', index=False)\n",
    "X_df = pd.read_csv('data/X_df.csv')"
   ]
  },
  {
   "cell_type": "code",
   "execution_count": 9,
   "metadata": {},
   "outputs": [
    {
     "data": {
      "text/html": [
       "<div>\n",
       "<style scoped>\n",
       "    .dataframe tbody tr th:only-of-type {\n",
       "        vertical-align: middle;\n",
       "    }\n",
       "\n",
       "    .dataframe tbody tr th {\n",
       "        vertical-align: top;\n",
       "    }\n",
       "\n",
       "    .dataframe thead th {\n",
       "        text-align: right;\n",
       "    }\n",
       "</style>\n",
       "<table border=\"1\" class=\"dataframe\">\n",
       "  <thead>\n",
       "    <tr style=\"text-align: right;\">\n",
       "      <th></th>\n",
       "      <th>b_1_tag</th>\n",
       "      <th>f_1_tag</th>\n",
       "      <th>f_1_word</th>\n",
       "      <th>main_aspect</th>\n",
       "      <th>main_case</th>\n",
       "      <th>main_tag</th>\n",
       "      <th>main_word</th>\n",
       "      <th>y</th>\n",
       "    </tr>\n",
       "  </thead>\n",
       "  <tbody>\n",
       "    <tr>\n",
       "      <th>0</th>\n",
       "      <td>NaN</td>\n",
       "      <td>NOUN</td>\n",
       "      <td>NaN</td>\n",
       "      <td>NaN</td>\n",
       "      <td>NaN</td>\n",
       "      <td>PREP</td>\n",
       "      <td>в</td>\n",
       "      <td>0</td>\n",
       "    </tr>\n",
       "    <tr>\n",
       "      <th>1</th>\n",
       "      <td>PREP</td>\n",
       "      <td>NOUN</td>\n",
       "      <td>NaN</td>\n",
       "      <td>NaN</td>\n",
       "      <td>loct</td>\n",
       "      <td>NOUN</td>\n",
       "      <td>NaN</td>\n",
       "      <td>0</td>\n",
       "    </tr>\n",
       "    <tr>\n",
       "      <th>2</th>\n",
       "      <td>NOUN</td>\n",
       "      <td>PREP</td>\n",
       "      <td>в</td>\n",
       "      <td>NaN</td>\n",
       "      <td>gent</td>\n",
       "      <td>NOUN</td>\n",
       "      <td>NaN</td>\n",
       "      <td>1</td>\n",
       "    </tr>\n",
       "    <tr>\n",
       "      <th>3</th>\n",
       "      <td>NOUN</td>\n",
       "      <td>NOUN</td>\n",
       "      <td>NaN</td>\n",
       "      <td>NaN</td>\n",
       "      <td>NaN</td>\n",
       "      <td>PREP</td>\n",
       "      <td>в</td>\n",
       "      <td>0</td>\n",
       "    </tr>\n",
       "  </tbody>\n",
       "</table>\n",
       "</div>"
      ],
      "text/plain": [
       "  b_1_tag f_1_tag f_1_word main_aspect main_case main_tag main_word  y\n",
       "0     NaN    NOUN      NaN         NaN       NaN     PREP         в  0\n",
       "1    PREP    NOUN      NaN         NaN      loct     NOUN       NaN  0\n",
       "2    NOUN    PREP        в         NaN      gent     NOUN       NaN  1\n",
       "3    NOUN    NOUN      NaN         NaN       NaN     PREP         в  0"
      ]
     },
     "execution_count": 9,
     "metadata": {},
     "output_type": "execute_result"
    }
   ],
   "source": [
    "X_df[['b_1_tag', 'f_1_tag', 'f_1_word', 'main_aspect', 'main_case', 'main_tag', 'main_word', 'y']].head(4)"
   ]
  },
  {
   "cell_type": "code",
   "execution_count": 10,
   "metadata": {},
   "outputs": [],
   "source": [
    "X_df = pd.get_dummies(X_df).fillna(0)"
   ]
  },
  {
   "cell_type": "code",
   "execution_count": 11,
   "metadata": {},
   "outputs": [
    {
     "data": {
      "text/plain": [
       "(204388, 720)"
      ]
     },
     "execution_count": 11,
     "metadata": {},
     "output_type": "execute_result"
    }
   ],
   "source": [
    "X_df.shape"
   ]
  },
  {
   "cell_type": "code",
   "execution_count": 12,
   "metadata": {
    "scrolled": true
   },
   "outputs": [
    {
     "data": {
      "text/html": [
       "<div>\n",
       "<style scoped>\n",
       "    .dataframe tbody tr th:only-of-type {\n",
       "        vertical-align: middle;\n",
       "    }\n",
       "\n",
       "    .dataframe tbody tr th {\n",
       "        vertical-align: top;\n",
       "    }\n",
       "\n",
       "    .dataframe thead th {\n",
       "        text-align: right;\n",
       "    }\n",
       "</style>\n",
       "<table border=\"1\" class=\"dataframe\">\n",
       "  <thead>\n",
       "    <tr style=\"text-align: right;\">\n",
       "      <th></th>\n",
       "      <th>b_1_tag_PREP</th>\n",
       "      <th>b_1_tag_NOUN</th>\n",
       "      <th>f_1_tag_PREP</th>\n",
       "      <th>f_1_tag_NOUN</th>\n",
       "      <th>f_1_word_в</th>\n",
       "      <th>main_word_в</th>\n",
       "      <th>y</th>\n",
       "    </tr>\n",
       "  </thead>\n",
       "  <tbody>\n",
       "    <tr>\n",
       "      <th>0</th>\n",
       "      <td>0</td>\n",
       "      <td>0</td>\n",
       "      <td>0</td>\n",
       "      <td>1</td>\n",
       "      <td>0</td>\n",
       "      <td>1</td>\n",
       "      <td>0</td>\n",
       "    </tr>\n",
       "    <tr>\n",
       "      <th>1</th>\n",
       "      <td>1</td>\n",
       "      <td>0</td>\n",
       "      <td>0</td>\n",
       "      <td>1</td>\n",
       "      <td>0</td>\n",
       "      <td>0</td>\n",
       "      <td>0</td>\n",
       "    </tr>\n",
       "    <tr>\n",
       "      <th>2</th>\n",
       "      <td>0</td>\n",
       "      <td>1</td>\n",
       "      <td>1</td>\n",
       "      <td>0</td>\n",
       "      <td>1</td>\n",
       "      <td>0</td>\n",
       "      <td>1</td>\n",
       "    </tr>\n",
       "    <tr>\n",
       "      <th>3</th>\n",
       "      <td>0</td>\n",
       "      <td>1</td>\n",
       "      <td>0</td>\n",
       "      <td>1</td>\n",
       "      <td>0</td>\n",
       "      <td>1</td>\n",
       "      <td>0</td>\n",
       "    </tr>\n",
       "  </tbody>\n",
       "</table>\n",
       "</div>"
      ],
      "text/plain": [
       "   b_1_tag_PREP  b_1_tag_NOUN  f_1_tag_PREP  f_1_tag_NOUN  f_1_word_в  \\\n",
       "0             0             0             0             1           0   \n",
       "1             1             0             0             1           0   \n",
       "2             0             1             1             0           1   \n",
       "3             0             1             0             1           0   \n",
       "\n",
       "   main_word_в  y  \n",
       "0            1  0  \n",
       "1            0  0  \n",
       "2            0  1  \n",
       "3            1  0  "
      ]
     },
     "execution_count": 12,
     "metadata": {},
     "output_type": "execute_result"
    }
   ],
   "source": [
    "X_df[[\n",
    "    'b_1_tag_PREP', 'b_1_tag_NOUN', 'f_1_tag_PREP', 'f_1_tag_NOUN', \n",
    "    'f_1_word_в', 'main_word_в', \n",
    "    'y'\n",
    "]].head(4)"
   ]
  },
  {
   "cell_type": "code",
   "execution_count": 13,
   "metadata": {},
   "outputs": [],
   "source": [
    "y = X_df.y\n",
    "X_df.drop('y', axis=1, inplace=True)\n",
    "X_df['weight'] = 1"
   ]
  },
  {
   "cell_type": "markdown",
   "metadata": {},
   "source": [
    "Huge number of long complicated centences is good, but if we add task specified centences, we can get a better model. "
   ]
  },
  {
   "cell_type": "code",
   "execution_count": 14,
   "metadata": {},
   "outputs": [],
   "source": [
    "import pickle\n",
    "with open('data/y_tasks', 'rb') as file:\n",
    "    y_tasks = pickle.load(file)\n",
    "\n",
    "with open('data/train_tasks', 'rb') as file:\n",
    "    train_tasks = pickle.load(file)"
   ]
  },
  {
   "cell_type": "code",
   "execution_count": 15,
   "metadata": {},
   "outputs": [],
   "source": [
    "# Add data in same format from tasks found in web with 5 times larger weight\n",
    "X1_df = pd.DataFrame([vectorizer(ww, morph, ngram_man) for ww in train_tasks])\n",
    "X1_df = pd.get_dummies(X1_df).fillna(0)\n",
    "X1_df.drop('y', axis=1, inplace=True)\n",
    "X1_df['weight'] = 5"
   ]
  },
  {
   "cell_type": "code",
   "execution_count": 16,
   "metadata": {},
   "outputs": [],
   "source": [
    "X_df = X_df.append(X1_df).fillna(0)\n",
    "y = pd.Series(list(y)+y_tasks)"
   ]
  },
  {
   "cell_type": "code",
   "execution_count": 17,
   "metadata": {},
   "outputs": [
    {
     "data": {
      "text/plain": [
       "0    175554\n",
       "1     33055\n",
       "dtype: int64"
      ]
     },
     "execution_count": 17,
     "metadata": {},
     "output_type": "execute_result"
    }
   ],
   "source": [
    "y.value_counts()"
   ]
  },
  {
   "cell_type": "markdown",
   "metadata": {},
   "source": [
    "# Part II. Modelling"
   ]
  },
  {
   "cell_type": "code",
   "execution_count": 18,
   "metadata": {},
   "outputs": [],
   "source": [
    "from sklearn.metrics import roc_auc_score\n",
    "from sklearn.model_selection import GridSearchCV, RandomizedSearchCV, train_test_split\n",
    "from sklearn.model_selection import StratifiedKFold"
   ]
  },
  {
   "cell_type": "code",
   "execution_count": 19,
   "metadata": {},
   "outputs": [],
   "source": [
    "X_train, X_test, y_train, y_test = train_test_split(X_df, y, test_size=0.15)\n",
    "\n",
    "W_train = X_train['weight']\n",
    "X_train.drop('weight', axis=1, inplace=True)\n",
    "W_test = X_test['weight']\n",
    "X_test.drop('weight', axis=1, inplace=True)"
   ]
  },
  {
   "cell_type": "code",
   "execution_count": 20,
   "metadata": {},
   "outputs": [],
   "source": [
    "from sklearn.preprocessing import StandardScaler, MinMaxScaler\n",
    "sc = StandardScaler()\n",
    "X_train = sc.fit_transform(X_train)\n",
    "X_test = sc.transform(X_test)"
   ]
  },
  {
   "cell_type": "code",
   "execution_count": 21,
   "metadata": {},
   "outputs": [
    {
     "data": {
      "text/plain": [
       "(177317, 757)"
      ]
     },
     "execution_count": 21,
     "metadata": {},
     "output_type": "execute_result"
    }
   ],
   "source": [
    "X_train.shape"
   ]
  },
  {
   "cell_type": "code",
   "execution_count": 22,
   "metadata": {},
   "outputs": [
    {
     "data": {
      "text/plain": [
       "{0: 0.5940705847667165, 1: 3.1575788873851414}"
      ]
     },
     "execution_count": 22,
     "metadata": {},
     "output_type": "execute_result"
    }
   ],
   "source": [
    "from sklearn.utils import class_weight\n",
    "import numpy as np\n",
    "class_weights = class_weight.compute_class_weight('balanced', np.unique(y_train), y_train)\n",
    "class_weights = {k: v for k, v in enumerate(class_weights)}\n",
    "class_weights"
   ]
  },
  {
   "cell_type": "code",
   "execution_count": 23,
   "metadata": {},
   "outputs": [
    {
     "name": "stderr",
     "output_type": "stream",
     "text": [
      "Using TensorFlow backend.\n"
     ]
    }
   ],
   "source": [
    "# building a model with keras\n",
    "from keras.layers import Dense, Activation, Dropout\n",
    "from keras.models import Sequential\n",
    "from keras.callbacks import ProgbarLogger\n",
    "from keras import backend as K \n",
    "\n",
    "K.clear_session()\n",
    "model = Sequential()  \n",
    "\n",
    "model.add(Dense(60, input_shape=(X_train.shape[1],), init = 'uniform')) \n",
    "model.add(Dropout(.5))\n",
    "\n",
    "model.add(Dense(20, init = 'uniform'))\n",
    "model.add(Dropout(.1))\n",
    "model.add(Activation('relu'))\n",
    "\n",
    "model.add(Dense(1, init = 'uniform'))\n",
    "model.add(Activation('sigmoid'))"
   ]
  },
  {
   "cell_type": "code",
   "execution_count": 24,
   "metadata": {},
   "outputs": [
    {
     "name": "stdout",
     "output_type": "stream",
     "text": [
      "Model: \"sequential_1\"\n",
      "_________________________________________________________________\n",
      "Layer (type)                 Output Shape              Param #   \n",
      "=================================================================\n",
      "dense_1 (Dense)              (None, 60)                45480     \n",
      "_________________________________________________________________\n",
      "dropout_1 (Dropout)          (None, 60)                0         \n",
      "_________________________________________________________________\n",
      "dense_2 (Dense)              (None, 20)                1220      \n",
      "_________________________________________________________________\n",
      "dropout_2 (Dropout)          (None, 20)                0         \n",
      "_________________________________________________________________\n",
      "activation_1 (Activation)    (None, 20)                0         \n",
      "_________________________________________________________________\n",
      "dense_3 (Dense)              (None, 1)                 21        \n",
      "_________________________________________________________________\n",
      "activation_2 (Activation)    (None, 1)                 0         \n",
      "=================================================================\n",
      "Total params: 46,721\n",
      "Trainable params: 46,721\n",
      "Non-trainable params: 0\n",
      "_________________________________________________________________\n"
     ]
    }
   ],
   "source": [
    "model.summary()"
   ]
  },
  {
   "cell_type": "code",
   "execution_count": 25,
   "metadata": {},
   "outputs": [
    {
     "name": "stdout",
     "output_type": "stream",
     "text": [
      "WARNING:tensorflow:From /Users/darya.guselnikova/anaconda3/lib/python3.7/site-packages/tensorflow/python/ops/nn_impl.py:180: add_dispatch_support.<locals>.wrapper (from tensorflow.python.ops.array_ops) is deprecated and will be removed in a future version.\n",
      "Instructions for updating:\n",
      "Use tf.where in 2.0, which has the same broadcast rule as np.where\n"
     ]
    }
   ],
   "source": [
    "from keras.callbacks import Callback, EarlyStopping\n",
    "my_callbacks = [EarlyStopping(monitor='val_loss', patience=7, verbose=1, mode='min')]\n",
    "\n",
    "model.compile(\n",
    "    loss='binary_crossentropy', \n",
    "    optimizer='adam',\n",
    "    metrics=['accuracy']\n",
    ")"
   ]
  },
  {
   "cell_type": "code",
   "execution_count": 26,
   "metadata": {},
   "outputs": [
    {
     "name": "stdout",
     "output_type": "stream",
     "text": [
      "WARNING:tensorflow:From /Users/darya.guselnikova/anaconda3/lib/python3.7/site-packages/keras/backend/tensorflow_backend.py:422: The name tf.global_variables is deprecated. Please use tf.compat.v1.global_variables instead.\n",
      "\n",
      "Train on 177317 samples, validate on 31292 samples\n",
      "Epoch 1/100\n",
      " - 15s - loss: 0.5794 - accuracy: 0.6758 - val_loss: 0.5138 - val_accuracy: 0.7688\n",
      "Epoch 2/100\n",
      " - 15s - loss: 0.5163 - accuracy: 0.7613 - val_loss: 0.5088 - val_accuracy: 0.7711\n",
      "Epoch 3/100\n",
      " - 16s - loss: 0.5063 - accuracy: 0.7663 - val_loss: 0.5034 - val_accuracy: 0.7726\n",
      "Epoch 4/100\n",
      " - 17s - loss: 0.5001 - accuracy: 0.7709 - val_loss: 0.5129 - val_accuracy: 0.7684\n",
      "Epoch 5/100\n",
      " - 15s - loss: 0.4969 - accuracy: 0.7706 - val_loss: 0.4930 - val_accuracy: 0.7827\n",
      "Epoch 6/100\n",
      " - 550s - loss: 0.4923 - accuracy: 0.7753 - val_loss: 0.5117 - val_accuracy: 0.7764\n",
      "Epoch 7/100\n",
      " - 27s - loss: 0.4883 - accuracy: 0.7753 - val_loss: 0.5011 - val_accuracy: 0.7830\n",
      "Epoch 8/100\n",
      " - 16s - loss: 0.4850 - accuracy: 0.7771 - val_loss: 0.5143 - val_accuracy: 0.7763\n",
      "Epoch 9/100\n",
      " - 11s - loss: 0.4789 - accuracy: 0.7798 - val_loss: 0.4931 - val_accuracy: 0.7811\n",
      "Epoch 10/100\n",
      " - 11s - loss: 0.4760 - accuracy: 0.7755 - val_loss: 0.4876 - val_accuracy: 0.7802\n",
      "Epoch 11/100\n",
      " - 11s - loss: 0.4707 - accuracy: 0.7765 - val_loss: 0.4931 - val_accuracy: 0.7811\n",
      "Epoch 12/100\n",
      " - 16s - loss: 0.4691 - accuracy: 0.7741 - val_loss: 0.4906 - val_accuracy: 0.7807\n",
      "Epoch 13/100\n",
      " - 11s - loss: 0.4640 - accuracy: 0.7762 - val_loss: 0.4580 - val_accuracy: 0.7922\n",
      "Epoch 14/100\n",
      " - 12s - loss: 0.4620 - accuracy: 0.7767 - val_loss: 0.4901 - val_accuracy: 0.7792\n",
      "Epoch 15/100\n",
      " - 11s - loss: 0.4611 - accuracy: 0.7760 - val_loss: 0.4981 - val_accuracy: 0.7733\n",
      "Epoch 16/100\n",
      " - 11s - loss: 0.4586 - accuracy: 0.7767 - val_loss: 0.4840 - val_accuracy: 0.7820\n",
      "Epoch 17/100\n",
      " - 11s - loss: 0.4576 - accuracy: 0.7757 - val_loss: 0.4579 - val_accuracy: 0.7992\n",
      "Epoch 18/100\n",
      " - 11s - loss: 0.4565 - accuracy: 0.7774 - val_loss: 0.4717 - val_accuracy: 0.7887\n",
      "Epoch 19/100\n",
      " - 11s - loss: 0.4560 - accuracy: 0.7775 - val_loss: 0.4816 - val_accuracy: 0.7865\n",
      "Epoch 20/100\n",
      " - 11s - loss: 0.4542 - accuracy: 0.7776 - val_loss: 0.4873 - val_accuracy: 0.7820\n",
      "Epoch 21/100\n",
      " - 14s - loss: 0.4534 - accuracy: 0.7769 - val_loss: 0.4743 - val_accuracy: 0.7910\n",
      "Epoch 22/100\n",
      " - 13s - loss: 0.4525 - accuracy: 0.7801 - val_loss: 0.4793 - val_accuracy: 0.7871\n",
      "Epoch 23/100\n",
      " - 11s - loss: 0.4515 - accuracy: 0.7772 - val_loss: 0.4790 - val_accuracy: 0.7847\n",
      "Epoch 24/100\n",
      " - 11s - loss: 0.4519 - accuracy: 0.7787 - val_loss: 0.4774 - val_accuracy: 0.7882\n",
      "Epoch 00024: early stopping\n"
     ]
    }
   ],
   "source": [
    "history = model.fit(\n",
    "    X_train, \n",
    "    y_train,\n",
    "    batch_size=256, \n",
    "    epochs=100,\n",
    "    validation_data=(X_test, y_test, W_test.values),\n",
    "    verbose=2,\n",
    "    class_weight=class_weights,\n",
    "    callbacks=my_callbacks,\n",
    "    sample_weight=W_train.values\n",
    ")"
   ]
  },
  {
   "cell_type": "code",
   "execution_count": 27,
   "metadata": {},
   "outputs": [
    {
     "name": "stdout",
     "output_type": "stream",
     "text": [
      "Train: 0.792, Test: 0.788\n"
     ]
    },
    {
     "data": {
      "image/png": "[encoded data removed]",
      "text/plain": [
       "<Figure size 432x288 with 1 Axes>"
      ]
     },
     "metadata": {
      "needs_background": "light"
     },
     "output_type": "display_data"
    },
    {
     "name": "stdout",
     "output_type": "stream",
     "text": [
      "Train: 0.792, Test: 0.788\n"
     ]
    },
    {
     "data": {
      "image/png": "[encoded data removed]",
      "text/plain": [
       "<Figure size 432x288 with 1 Axes>"
      ]
     },
     "metadata": {
      "needs_background": "light"
     },
     "output_type": "display_data"
    }
   ],
   "source": [
    "import matplotlib.pyplot as plt\n",
    "%matplotlib inline\n",
    "# evaluate the model\n",
    "_, train_acc = model.evaluate(X_train, y_train, verbose=0)\n",
    "_, test_acc = model.evaluate(X_test, y_test, verbose=0)\n",
    "print('Train: %.3f, Test: %.3f' % (train_acc, test_acc))\n",
    "# plot training history\n",
    "plt.plot(history.history['accuracy'], label='train')\n",
    "plt.plot(history.history['val_accuracy'], label='test')\n",
    "plt.legend()\n",
    "plt.title('Learning history: Accuracy')\n",
    "plt.show()\n",
    "\n",
    "import matplotlib.pyplot as plt\n",
    "%matplotlib inline\n",
    "# evaluate the model\n",
    "_, train_acc = model.evaluate(X_train, y_train, verbose=0)\n",
    "_, test_acc = model.evaluate(X_test, y_test, verbose=0)\n",
    "print('Train: %.3f, Test: %.3f' % (train_acc, test_acc))\n",
    "# plot training history\n",
    "plt.plot(history.history['loss'], label='train')\n",
    "plt.plot(history.history['val_loss'], label='test')\n",
    "plt.legend()\n",
    "plt.title('Learning history: Loss')\n",
    "plt.show()"
   ]
  },
  {
   "cell_type": "code",
   "execution_count": null,
   "metadata": {},
   "outputs": [],
   "source": []
  }
 ],
 "metadata": {
  "kernelspec": {
   "display_name": "Python 3",
   "language": "python",
   "name": "python3"
  },
  "language_info": {
   "codemirror_mode": {
    "name": "ipython",
    "version": 3
   },
   "file_extension": ".py",
   "mimetype": "text/x-python",
   "name": "python",
   "nbconvert_exporter": "python",
   "pygments_lexer": "ipython3",
   "version": "3.7.3"
  }
 },
 "nbformat": 4,
 "nbformat_minor": 2
}
